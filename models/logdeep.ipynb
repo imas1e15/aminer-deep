{
 "cells": [
  {
   "cell_type": "code",
   "execution_count": null,
   "id": "1d94ec6c-51a1-4296-832c-e57de8193d64",
   "metadata": {},
   "outputs": [],
   "source": [
    "import time\n",
    "import zmq\n",
    "import json\n",
    "import torch\n",
    "import torch.nn as nn\n",
    "from torch.autograd import Variable"
   ]
  },
  {
   "cell_type": "code",
   "execution_count": null,
   "id": "5e26c402-7165-435f-a9ed-7f076d95f1ea",
   "metadata": {},
   "outputs": [],
   "source": [
    "class deeplog(nn.Module):\n",
    "    def __init__(self, input_size, hidden_size, num_layers, num_keys):\n",
    "        super(deeplog, self).__init__()\n",
    "        self.hidden_size = hidden_size\n",
    "        self.num_layers = num_layers\n",
    "        self.lstm = nn.LSTM(input_size,\n",
    "                            hidden_size,\n",
    "                            num_layers,\n",
    "                            batch_first=True)\n",
    "        self.fc = nn.Linear(hidden_size, num_keys)\n",
    "\n",
    "    def forward(self, features, device):\n",
    "        input0 = features[0]\n",
    "        h0 = torch.zeros(self.num_layers, input0.size(0),\n",
    "                         self.hidden_size).to(device)\n",
    "        c0 = torch.zeros(self.num_layers, input0.size(0),\n",
    "                         self.hidden_size).to(device)\n",
    "        out, _ = self.lstm(input0, (h0, c0))\n",
    "        out = self.fc(out[:, -1, :])\n",
    "        return out"
   ]
  }
 ],
 "metadata": {
  "kernelspec": {
   "display_name": "Python 3 (ipykernel)",
   "language": "python",
   "name": "python3"
  },
  "language_info": {
   "codemirror_mode": {
    "name": "ipython",
    "version": 3
   },
   "file_extension": ".py",
   "mimetype": "text/x-python",
   "name": "python",
   "nbconvert_exporter": "python",
   "pygments_lexer": "ipython3",
   "version": "3.10.6"
  }
 },
 "nbformat": 4,
 "nbformat_minor": 5
}
