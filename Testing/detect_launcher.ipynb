{
 "cells": [
  {
   "cell_type": "code",
   "execution_count": 1,
   "id": "6eac60bb-61dc-47cb-a86b-5befdb2e303c",
   "metadata": {},
   "outputs": [],
   "source": [
    "import argparse\n",
    "import json\n",
    "import sys\n",
    "import time\n",
    "\n",
    "import zmq\n",
    "from auxiliaries.detector import Detector\n",
    "from auxiliaries.utility import *\n",
    "from models.deeplog import deeplog\n",
    "\n",
    "# sys.path.append('PWD')\n",
    "# print(sys.path)"
   ]
  },
  {
   "cell_type": "code",
   "execution_count": 2,
   "id": "c32328ce-c3c1-484f-b889-b053b3c055e9",
   "metadata": {},
   "outputs": [],
   "source": [
    "# Config Parameters\n",
    "\n",
    "options = dict()\n",
    "# options[\"data_dir\"] = \"../data/\"\n",
    "# options[\"window_size\"] = 10\n",
    "options[\"device\"] = \"cpu\"\n",
    "\n",
    "# Smaple\n",
    "# options[\"sample\"] = \"sliding_window\"\n",
    "# options[\"window_size\"] = 10  # if fix_window\n",
    "\n",
    "# Features\n",
    "# options[\"sequentials\"] = True\n",
    "# options[\"quantitatives\"] = False\n",
    "# options[\"semantics\"] = False\n",
    "# options[\"feature_num\"] = sum(\n",
    "#    [options[\"sequentials\"], options[\"quantitatives\"], options[\"semantics\"]]\n",
    "# )\n",
    "\n",
    "# Model\n",
    "options[\"input_size\"] = 1\n",
    "options[\"hidden_size\"] = 64\n",
    "options[\"num_layers\"] = 2\n",
    "options[\"num_classes\"] = 269\n",
    "\n",
    "# Train\n",
    "# options[\"batch_size\"] = 2048\n",
    "# options[\"accumulation_step\"] = 1\n",
    "\n",
    "# options[\"optimizer\"] = \"adam\"\n",
    "# options[\"lr\"] = 0.001\n",
    "# options[\"max_epoch\"] = 370\n",
    "# options[\"lr_step\"] = (300, 350)\n",
    "# options[\"lr_decay_ratio\"] = 0.1\n",
    "\n",
    "# options[\"resume_path\"] = None\n",
    "# options[\"model_name\"] = \"audit\"\n",
    "# options[\"save_dir\"] = \"/result/deeplog/\"\n",
    "\n",
    "# Predict\n",
    "options[\n",
    "    \"model_path\"\n",
    "] = \"/home/aca/Documents/AD_AIT_ACA_Imp/result/deeplog/audit_last.pth\"\n",
    "options[\"num_candidates\"] = 9\n",
    "\n",
    "seed_everything(seed=1234)\n",
    "\n",
    "\n",
    "def train():\n",
    "    Model = deeplog(\n",
    "        input_size=options[\"input_size\"],\n",
    "        hidden_size=options[\"hidden_size\"],\n",
    "        num_layers=options[\"num_layers\"],\n",
    "        num_keys=options[\"num_classes\"],\n",
    "    )\n",
    "    trainer = Trainer(Model, options)\n",
    "    trainer.start_train()"
   ]
  },
  {
   "cell_type": "code",
   "execution_count": 3,
   "id": "4cf19939-6a45-4f18-9238-1018fc086436",
   "metadata": {},
   "outputs": [
    {
     "name": "stdout",
     "output_type": "stream",
     "text": [
      "model_path: /home/aca/Documents/AD_AIT_ACA_Imp/result/deeplog/audit_last.pth\n"
     ]
    }
   ],
   "source": [
    "# load the model\n",
    "Model = deeplog(\n",
    "    input_size=options[\"input_size\"],\n",
    "    hidden_size=options[\"hidden_size\"],\n",
    "    num_layers=options[\"num_layers\"],\n",
    "    num_keys=options[\"num_classes\"],\n",
    ")\n",
    "dectector = Detector(Model, options)\n",
    "loaded_model = dectector.load_model()\n",
    "\n",
    "# establish the zmq connection\n",
    "\n",
    "context = zmq.Context()\n",
    "\n",
    "# creating Two soket one for sending and one for eciving\n",
    "zmq_pub_socket = context.socket(zmq.PUB)\n",
    "zmq_pub_socket.connect(\"tcp://127.0.0.1:5560\")\n",
    "\n",
    "zmq_sub_socket = context.socket(zmq.SUB)\n",
    "zmq_sub_socket.connect(\"tcp://127.0.0.1:5559\")\n",
    "zmq_sub_socket.setsockopt_string(zmq.SUBSCRIBE, \"AminerOutput\")"
   ]
  },
  {
   "cell_type": "code",
   "execution_count": 4,
   "id": "1592cda4-f32d-46a3-b318-f4e834baadbf",
   "metadata": {},
   "outputs": [
    {
     "name": "stdout",
     "output_type": "stream",
     "text": [
      "[[0, 2, 0, 0, 2, 2, 2, 0, 2, 2], 2, False]\n",
      "[[2, 0, 0, 2, 2, 2, 0, 2, 2, 2], 42, False]\n",
      "[[0, 0, 2, 2, 2, 0, 2, 2, 2, 42], 2, False]\n",
      "[[0, 2, 2, 2, 0, 2, 2, 2, 42, 2], 0, False]\n",
      "[[2, 2, 2, 0, 2, 2, 2, 42, 2, 0], 0, False]\n",
      "[[2, 2, 0, 2, 2, 2, 42, 2, 0, 0], 0, False]\n",
      "[[2, 0, 2, 2, 2, 42, 2, 0, 0, 0], 2, False]\n",
      "[[0, 2, 2, 2, 42, 2, 0, 0, 0, 2], 0, False]\n",
      "[[2, 2, 2, 42, 2, 0, 0, 0, 2, 0], 0, False]\n",
      "[[2, 2, 42, 2, 0, 0, 0, 2, 0, 0], 0, False]\n",
      "[[2, 42, 2, 0, 0, 0, 2, 0, 0, 0], 2, False]\n",
      "[[42, 2, 0, 0, 0, 2, 0, 0, 0, 2], 0, False]\n",
      "[[2, 0, 0, 0, 2, 0, 0, 0, 2, 0], 0, False]\n",
      "[[0, 0, 0, 2, 0, 0, 0, 2, 0, 0], 0, False]\n",
      "[[0, 0, 2, 0, 0, 0, 2, 0, 0, 0], 2, False]\n",
      "[[0, 2, 0, 0, 0, 2, 0, 0, 0, 2], 0, False]\n",
      "[[2, 0, 0, 0, 2, 0, 0, 0, 2, 0], 0, False]\n",
      "[[0, 0, 0, 2, 0, 0, 0, 2, 0, 0], 0, False]\n",
      "[[0, 0, 2, 0, 0, 0, 2, 0, 0, 0], 2, False]\n",
      "[[0, 2, 0, 0, 0, 2, 0, 0, 0, 2], 0, False]\n",
      "[[2, 0, 0, 0, 2, 0, 0, 0, 2, 0], 0, False]\n",
      "[[0, 0, 0, 2, 0, 0, 0, 2, 0, 0], 0, False]\n",
      "[[0, 0, 2, 0, 0, 0, 2, 0, 0, 0], 2, False]\n",
      "[[0, 2, 0, 0, 0, 2, 0, 0, 0, 2], 0, False]\n",
      "[[2, 0, 0, 0, 2, 0, 0, 0, 2, 0], 0, False]\n"
     ]
    },
    {
     "ename": "KeyboardInterrupt",
     "evalue": "",
     "output_type": "error",
     "traceback": [
      "\u001b[0;31m---------------------------------------------------------------------------\u001b[0m",
      "\u001b[0;31mKeyboardInterrupt\u001b[0m                         Traceback (most recent call last)",
      "Cell \u001b[0;32mIn[4], line 11\u001b[0m\n\u001b[1;32m      9\u001b[0m output \u001b[38;5;241m=\u001b[39m [seq[:\u001b[38;5;241m-\u001b[39m\u001b[38;5;241m1\u001b[39m], seq[\u001b[38;5;241m-\u001b[39m\u001b[38;5;241m1\u001b[39m], result]\n\u001b[1;32m     10\u001b[0m \u001b[38;5;28mprint\u001b[39m(output)\n\u001b[0;32m---> 11\u001b[0m \u001b[43mtime\u001b[49m\u001b[38;5;241;43m.\u001b[39;49m\u001b[43msleep\u001b[49m\u001b[43m(\u001b[49m\u001b[38;5;241;43m2\u001b[39;49m\u001b[43m)\u001b[49m\n\u001b[1;32m     12\u001b[0m zmq_pub_socket\u001b[38;5;241m.\u001b[39msend_string(\u001b[38;5;124m\"\u001b[39m\u001b[38;5;124mDetectorOutput:\u001b[39m\u001b[38;5;124m\"\u001b[39m \u001b[38;5;241m+\u001b[39m json\u001b[38;5;241m.\u001b[39mdumps(output))\n",
      "\u001b[0;31mKeyboardInterrupt\u001b[0m: "
     ]
    }
   ],
   "source": [
    "# Start your result manager and workers before you start your producers\n",
    "while True:\n",
    "    time.sleep(2)\n",
    "    msg = zmq_sub_socket.recv()\n",
    "    top, seq = msg.split(b\":\")\n",
    "    seq = json.loads(seq)\n",
    "    seq = [int(x) for x in seq]\n",
    "    result = dectector.detect_anomaly(loaded_model, seq[:-1], seq[-1])\n",
    "    output = [seq[:-1], seq[-1], result]\n",
    "    print(output)\n",
    "    time.sleep(2)\n",
    "    zmq_pub_socket.send_string(\"DetectorOutput:\" + json.dumps(output))"
   ]
  },
  {
   "cell_type": "code",
   "execution_count": 16,
   "id": "67879cd7-b09a-409a-a610-d78eb59e8f8f",
   "metadata": {},
   "outputs": [],
   "source": [
    "send_zmq_socket.close()\n",
    "reciv_zmq_socket.close()"
   ]
  }
 ],
 "metadata": {
  "kernelspec": {
   "display_name": "Python 3 (ipykernel)",
   "language": "python",
   "name": "python3"
  },
  "language_info": {
   "codemirror_mode": {
    "name": "ipython",
    "version": 3
   },
   "file_extension": ".py",
   "mimetype": "text/x-python",
   "name": "python",
   "nbconvert_exporter": "python",
   "pygments_lexer": "ipython3",
   "version": "3.10.6"
  }
 },
 "nbformat": 4,
 "nbformat_minor": 5
}
