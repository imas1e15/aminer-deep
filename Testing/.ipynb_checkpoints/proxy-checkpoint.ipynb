{
 "cells": [
  {
   "cell_type": "code",
   "execution_count": null,
   "id": "c71b500a-9d53-4690-be9a-1627b457a415",
   "metadata": {},
   "outputs": [],
   "source": [
    "import zmq\n",
    "\n",
    "context = zmq.Context()\n",
    "\n",
    "# This is where the weather server sits\n",
    "frontend = context.socket(zmq.SUB)\n",
    "frontend.bind(\"tcp://*:5558\")\n",
    "\n",
    "# This is our public endpoint for subscribers\n",
    "backend = context.socket(zmq.PUB)\n",
    "backend.bind(\"tcp://*:5557\")\n",
    "\n",
    "# Subscribe on everything\n",
    "#frontend.setsockopt(zmq.SUBSCRIBE, b'')\n",
    "\n",
    "# Shunt messages out to our own subscribers\n",
    "zmq.proxy(frontend, backend)"
   ]
  }
 ],
 "metadata": {
  "kernelspec": {
   "display_name": "Python 3 (ipykernel)",
   "language": "python",
   "name": "python3"
  },
  "language_info": {
   "codemirror_mode": {
    "name": "ipython",
    "version": 3
   },
   "file_extension": ".py",
   "mimetype": "text/x-python",
   "name": "python",
   "nbconvert_exporter": "python",
   "pygments_lexer": "ipython3",
   "version": "3.10.6"
  }
 },
 "nbformat": 4,
 "nbformat_minor": 5
}
